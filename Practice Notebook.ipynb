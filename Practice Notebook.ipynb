{
 "cells": [
  {
   "cell_type": "code",
   "id": "initial_id",
   "metadata": {
    "collapsed": true,
    "ExecuteTime": {
     "end_time": "2025-06-17T04:00:35.861243Z",
     "start_time": "2025-06-17T04:00:35.847471Z"
    }
   },
   "source": [
    "logs = [\n",
    "    \"[2025-06-16T10:00:00] INFO user1: Started process\",\n",
    "    \"[2025-06-16T10:00:01] ERROR user1: Failed to connect\",\n",
    "    \"[2025-06-16T10:00:02] INFO user2: Login successful\",\n",
    "    \"[2025-06-16T10:00:03] WARN user3: Low memory\",\n",
    "    \"[2025-06-16T10:00:04] ERROR user2: Timeout occurred\",\n",
    "    \"[2025-06-16T10:00:05] INFO user1: Retrying connection\"\n",
    "]\n"
   ],
   "outputs": [],
   "execution_count": 1
  },
  {
   "metadata": {},
   "cell_type": "code",
   "outputs": [],
   "execution_count": null,
   "source": "",
   "id": "e4ccbc9cdd9813d1"
  }
 ],
 "metadata": {
  "kernelspec": {
   "display_name": "Python 3",
   "language": "python",
   "name": "python3"
  },
  "language_info": {
   "codemirror_mode": {
    "name": "ipython",
    "version": 2
   },
   "file_extension": ".py",
   "mimetype": "text/x-python",
   "name": "python",
   "nbconvert_exporter": "python",
   "pygments_lexer": "ipython2",
   "version": "2.7.6"
  }
 },
 "nbformat": 4,
 "nbformat_minor": 5
}
